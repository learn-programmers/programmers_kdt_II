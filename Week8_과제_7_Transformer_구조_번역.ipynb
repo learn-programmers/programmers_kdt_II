{
 "cells": [
  {
   "cell_type": "markdown",
   "id": "level-opposition",
   "metadata": {},
   "source": [
    "## Sequence-to-Sequence Modeling with nn.Transformer and TorchText"
   ]
  },
  {
   "cell_type": "markdown",
   "id": "documentary-humanitarian",
   "metadata": {},
   "source": [
    "## Define the model"
   ]
  },
  {
   "cell_type": "code",
   "execution_count": 1,
   "id": "disabled-joyce",
   "metadata": {},
   "outputs": [],
   "source": [
    "import math\n",
    "import torch\n",
    "import torch.nn as nn\n",
    "import torch.nn.functional as F\n",
    "\n",
    "class TransformerModel(nn.Module):\n",
    "    def __init__(self, ntoken, ninp, nhead, nhid, nlayers, dropout=0.5):\n",
    "        super(TransformerModel, self).__init__()\n",
    "        from torch.nn import TransformerEncoder, TransformerEncoderLayer\n",
    "        self.model_type = 'Transformer'\n",
    "        self.pos_encoder = PositionalEncoding(ninp, dropout)\n",
    "        encoder_layers = TransformerEncoderLayer(ninp, nhead, nhid, dropout)\n",
    "        self.transformer_encoder = TransformerEncoder(encoder_layers, nlayers)\n",
    "        self.encoder = nn.Embedding(ntoken, ninp)\n",
    "        self.ninp = ninp\n",
    "        self.decoder = nn.Linear(ninp, ntoken)\n",
    "        \n",
    "        self.init_weights()\n",
    "    \n",
    "    def generate_square_subsequent_mask(self, sz):\n",
    "        mask = (torch.triu(torch.ones(sz,sz)) == 1).transpose(0, 1)\n",
    "        mask = mask.float().masked_fill(mask==0, float('-inf')).masked_fill(mask==1, float(0.0))\n",
    "        return mask\n",
    "    \n",
    "    def init_weights(self):\n",
    "        initrange = 0.1\n",
    "        self.encoder.weight.data.uniform_(-initrange, initrange)\n",
    "        self.decoder.bias.data.zero_()\n",
    "        self.decoder.weight.data.uniform_(-initrange, initrange)\n",
    "    \n",
    "    def forward(self, src, src_mask):\n",
    "        src = self.encoder(src) * math.sqrt(self.ninp)\n",
    "        src = self.pos_encoder(src)\n",
    "        output = self.transformer_encoder(src, src_mask)\n",
    "        output = self.decoder(output)\n",
    "        return output"
   ]
  },
  {
   "cell_type": "code",
   "execution_count": 2,
   "id": "conceptual-kitty",
   "metadata": {},
   "outputs": [],
   "source": [
    "class PositionalEncoding(nn.Module):\n",
    "\n",
    "    def __init__(self, d_model, dropout=0.1, max_len=5000):\n",
    "        super(PositionalEncoding, self).__init__()\n",
    "        self.dropout = nn.Dropout(p=dropout)\n",
    "\n",
    "        pe = torch.zeros(max_len, d_model)\n",
    "        position = torch.arange(0, max_len, dtype=torch.float).unsqueeze(1)\n",
    "        div_term = torch.exp(torch.arange(0, d_model, 2).float() * (-math.log(10000.0) / d_model))\n",
    "        pe[:, 0::2] = torch.sin(position * div_term)\n",
    "        pe[:, 1::2] = torch.cos(position * div_term)\n",
    "        pe = pe.unsqueeze(0).transpose(0, 1)\n",
    "        self.register_buffer('pe', pe)\n",
    "\n",
    "    def forward(self, x):\n",
    "        x = x + self.pe[:x.size(0), :]\n",
    "        return self.dropout(x)"
   ]
  },
  {
   "cell_type": "markdown",
   "id": "accessible-consultancy",
   "metadata": {},
   "source": [
    "## Load and batch data"
   ]
  },
  {
   "cell_type": "code",
   "execution_count": 3,
   "id": "documentary-scratch",
   "metadata": {},
   "outputs": [
    {
     "name": "stderr",
     "output_type": "stream",
     "text": [
      "36718lines [00:01, 26211.54lines/s]\n"
     ]
    }
   ],
   "source": [
    "import io\n",
    "import torch\n",
    "from torchtext.utils import download_from_url, extract_archive\n",
    "from torchtext.data.utils import get_tokenizer\n",
    "from torchtext.vocab import build_vocab_from_iterator\n",
    "\n",
    "url = 'https://s3.amazonaws.com/research.metamind.io/wikitext/wikitext-2-v1.zip'\n",
    "test_filepath, valid_filepath, train_filepath = extract_archive(download_from_url(url))\n",
    "tokenizer = get_tokenizer('basic_english')\n",
    "vocab = build_vocab_from_iterator(map(tokenizer,\n",
    "                                      iter(io.open(train_filepath,\n",
    "                                                   encoding=\"utf8\"))))\n",
    "\n",
    "def data_process(raw_text_iter):\n",
    "    data = [torch.tensor([vocab[token] for token in tokenizer(item)],\n",
    "                       dtype=torch.long) for item in raw_text_iter]\n",
    "    return torch.cat(tuple(filter(lambda t: t.numel() > 0, data)))\n",
    "\n",
    "train_data = data_process(iter(io.open(train_filepath, encoding=\"utf8\")))\n",
    "val_data = data_process(iter(io.open(valid_filepath, encoding=\"utf8\")))\n",
    "test_data = data_process(iter(io.open(test_filepath, encoding=\"utf8\")))\n",
    "\n",
    "device = torch.device(\"cuda\" if torch.cuda.is_available() else \"cpu\")\n",
    "\n",
    "def batchify(data, bsz):\n",
    "    # Divide the dataset into bsz parts.\n",
    "    nbatch = data.size(0) // bsz\n",
    "    # Trim off any extra elements that wouldn't cleanly fit (remainders).\n",
    "    data = data.narrow(0, 0, nbatch * bsz)\n",
    "    # Evenly divide the data across the bsz batches.\n",
    "    data = data.view(bsz, -1).t().contiguous()\n",
    "    return data.to(device)\n",
    "\n",
    "batch_size = 20\n",
    "eval_batch_size = 10\n",
    "train_data = batchify(train_data, batch_size)\n",
    "val_data = batchify(val_data, eval_batch_size)\n",
    "test_data = batchify(test_data, eval_batch_size)"
   ]
  },
  {
   "cell_type": "markdown",
   "id": "aboriginal-circuit",
   "metadata": {},
   "source": [
    "## Functions to generate input and target sequence"
   ]
  },
  {
   "cell_type": "code",
   "execution_count": 4,
   "id": "contained-humor",
   "metadata": {},
   "outputs": [],
   "source": [
    "bptt = 35\n",
    "def get_batch(source, i):\n",
    "    seq_len = min(bptt, len(source) - 1 - i)\n",
    "    data = source[i:i+seq_len]\n",
    "    target = source[i+1:i+1+seq_len].reshape(-1)\n",
    "    return data, target"
   ]
  },
  {
   "cell_type": "markdown",
   "id": "lightweight-literacy",
   "metadata": {},
   "source": [
    "## Initiate an instance"
   ]
  },
  {
   "cell_type": "code",
   "execution_count": 5,
   "id": "prescribed-tourism",
   "metadata": {},
   "outputs": [],
   "source": [
    "ntokens = len(vocab.stoi) # the size of vocabulary\n",
    "emsize = 200 # embedding dimension\n",
    "nhid = 200 # the dimension of the feedforward network model in nn.TransformerEncoder\n",
    "nlayers = 2 # the number of nn.TransformerEncoderLayer in nn.TransformerEncoder\n",
    "nhead = 2 # the number of heads in the multiheadattention models\n",
    "dropout = 0.2 # the dropout value\n",
    "model = TransformerModel(ntokens, emsize, nhead, nhid, nlayers, dropout).to(device)"
   ]
  },
  {
   "cell_type": "markdown",
   "id": "average-above",
   "metadata": {},
   "source": [
    "## Run the model"
   ]
  },
  {
   "cell_type": "code",
   "execution_count": 6,
   "id": "collective-uzbekistan",
   "metadata": {},
   "outputs": [],
   "source": [
    "criterion = nn.CrossEntropyLoss()\n",
    "lr = 5.0 # learning rate\n",
    "optimizer = torch.optim.SGD(model.parameters(), lr=lr)\n",
    "scheduler = torch.optim.lr_scheduler.StepLR(optimizer, 1.0, gamma=0.95)\n",
    "\n",
    "import time\n",
    "def train():\n",
    "    model.train() # Turn on the train mode\n",
    "    total_loss = 0.\n",
    "    start_time = time.time()\n",
    "    src_mask = model.generate_square_subsequent_mask(bptt).to(device)\n",
    "    for batch, i in enumerate(range(0, train_data.size(0) - 1, bptt)):\n",
    "        data, targets = get_batch(train_data, i)\n",
    "        optimizer.zero_grad()\n",
    "        if data.size(0) != bptt:\n",
    "            src_mask = model.generate_square_subsequent_mask(data.size(0)).to(device)\n",
    "        output = model(data, src_mask)\n",
    "        loss = criterion(output.view(-1, ntokens), targets)\n",
    "        loss.backward()\n",
    "        torch.nn.utils.clip_grad_norm_(model.parameters(), 0.5)\n",
    "        optimizer.step()\n",
    "\n",
    "        total_loss += loss.item()\n",
    "        log_interval = 200\n",
    "        if batch % log_interval == 0 and batch > 0:\n",
    "            cur_loss = total_loss / log_interval\n",
    "            elapsed = time.time() - start_time\n",
    "            print('| epoch {:3d} | {:5d}/{:5d} batches | '\n",
    "                  'lr {:02.2f} | ms/batch {:5.2f} | '\n",
    "                  'loss {:5.2f} | ppl {:8.2f}'.format(\n",
    "                    epoch, batch, len(train_data) // bptt, scheduler.get_lr()[0],\n",
    "                    elapsed * 1000 / log_interval,\n",
    "                    cur_loss, math.exp(cur_loss)))\n",
    "            total_loss = 0\n",
    "            start_time = time.time()\n",
    "\n",
    "def evaluate(eval_model, data_source):\n",
    "    eval_model.eval() # Turn on the evaluation mode\n",
    "    total_loss = 0.\n",
    "    src_mask = model.generate_square_subsequent_mask(bptt).to(device)\n",
    "    with torch.no_grad():\n",
    "        for i in range(0, data_source.size(0) - 1, bptt):\n",
    "            data, targets = get_batch(data_source, i)\n",
    "            if data.size(0) != bptt:\n",
    "                src_mask = model.generate_square_subsequent_mask(data.size(0)).to(device)\n",
    "            output = eval_model(data, src_mask)\n",
    "            output_flat = output.view(-1, ntokens)\n",
    "            total_loss += len(data) * criterion(output_flat, targets).item()\n",
    "    return total_loss / (len(data_source) - 1)"
   ]
  },
  {
   "cell_type": "code",
   "execution_count": 7,
   "id": "worse-former",
   "metadata": {},
   "outputs": [
    {
     "name": "stderr",
     "output_type": "stream",
     "text": [
      "C:\\ProgramData\\Anaconda3\\lib\\site-packages\\torch\\optim\\lr_scheduler.py:369: UserWarning: To get the last learning rate computed by the scheduler, please use `get_last_lr()`.\n",
      "  warnings.warn(\"To get the last learning rate computed by the scheduler, \"\n"
     ]
    },
    {
     "name": "stdout",
     "output_type": "stream",
     "text": [
      "| epoch   1 |   200/ 2928 batches | lr 5.00 | ms/batch 28.85 | loss  8.27 | ppl  3900.25\n",
      "| epoch   1 |   400/ 2928 batches | lr 5.00 | ms/batch 27.14 | loss  6.90 | ppl   995.53\n",
      "| epoch   1 |   600/ 2928 batches | lr 5.00 | ms/batch 27.26 | loss  6.46 | ppl   636.95\n",
      "| epoch   1 |   800/ 2928 batches | lr 5.00 | ms/batch 27.31 | loss  6.32 | ppl   553.65\n",
      "| epoch   1 |  1000/ 2928 batches | lr 5.00 | ms/batch 27.24 | loss  6.20 | ppl   491.40\n",
      "| epoch   1 |  1200/ 2928 batches | lr 5.00 | ms/batch 27.71 | loss  6.17 | ppl   476.18\n",
      "| epoch   1 |  1400/ 2928 batches | lr 5.00 | ms/batch 27.73 | loss  6.12 | ppl   456.23\n",
      "| epoch   1 |  1600/ 2928 batches | lr 5.00 | ms/batch 27.58 | loss  6.11 | ppl   452.25\n",
      "| epoch   1 |  1800/ 2928 batches | lr 5.00 | ms/batch 27.32 | loss  6.03 | ppl   415.44\n",
      "| epoch   1 |  2000/ 2928 batches | lr 5.00 | ms/batch 27.27 | loss  6.03 | ppl   414.20\n",
      "| epoch   1 |  2200/ 2928 batches | lr 5.00 | ms/batch 27.69 | loss  5.91 | ppl   367.60\n",
      "| epoch   1 |  2400/ 2928 batches | lr 5.00 | ms/batch 27.83 | loss  5.98 | ppl   393.60\n",
      "| epoch   1 |  2600/ 2928 batches | lr 5.00 | ms/batch 27.79 | loss  5.97 | ppl   391.15\n",
      "| epoch   1 |  2800/ 2928 batches | lr 5.00 | ms/batch 27.31 | loss  5.88 | ppl   357.24\n",
      "-----------------------------------------------------------------------------------------\n",
      "| end of epoch   1 | time: 84.36s | valid loss  5.79 | valid ppl   325.91\n",
      "-----------------------------------------------------------------------------------------\n",
      "| epoch   2 |   200/ 2928 batches | lr 4.51 | ms/batch 27.63 | loss  5.87 | ppl   355.84\n",
      "| epoch   2 |   400/ 2928 batches | lr 4.51 | ms/batch 27.23 | loss  5.86 | ppl   350.35\n",
      "| epoch   2 |   600/ 2928 batches | lr 4.51 | ms/batch 27.35 | loss  5.68 | ppl   292.17\n",
      "| epoch   2 |   800/ 2928 batches | lr 4.51 | ms/batch 27.22 | loss  5.71 | ppl   303.32\n",
      "| epoch   2 |  1000/ 2928 batches | lr 4.51 | ms/batch 27.23 | loss  5.66 | ppl   287.98\n",
      "| epoch   2 |  1200/ 2928 batches | lr 4.51 | ms/batch 27.36 | loss  5.69 | ppl   296.46\n",
      "| epoch   2 |  1400/ 2928 batches | lr 4.51 | ms/batch 27.34 | loss  5.70 | ppl   297.93\n",
      "| epoch   2 |  1600/ 2928 batches | lr 4.51 | ms/batch 27.29 | loss  5.71 | ppl   302.79\n",
      "| epoch   2 |  1800/ 2928 batches | lr 4.51 | ms/batch 27.33 | loss  5.66 | ppl   287.84\n",
      "| epoch   2 |  2000/ 2928 batches | lr 4.51 | ms/batch 27.38 | loss  5.68 | ppl   292.89\n",
      "| epoch   2 |  2200/ 2928 batches | lr 4.51 | ms/batch 27.34 | loss  5.56 | ppl   259.63\n",
      "| epoch   2 |  2400/ 2928 batches | lr 4.51 | ms/batch 27.35 | loss  5.66 | ppl   287.34\n",
      "| epoch   2 |  2600/ 2928 batches | lr 4.51 | ms/batch 27.43 | loss  5.67 | ppl   290.67\n",
      "| epoch   2 |  2800/ 2928 batches | lr 4.51 | ms/batch 27.39 | loss  5.59 | ppl   268.26\n",
      "-----------------------------------------------------------------------------------------\n",
      "| end of epoch   2 | time: 83.36s | valid loss  5.67 | valid ppl   289.13\n",
      "-----------------------------------------------------------------------------------------\n",
      "| epoch   3 |   200/ 2928 batches | lr 4.29 | ms/batch 27.50 | loss  5.62 | ppl   275.36\n",
      "| epoch   3 |   400/ 2928 batches | lr 4.29 | ms/batch 27.23 | loss  5.63 | ppl   279.84\n",
      "| epoch   3 |   600/ 2928 batches | lr 4.29 | ms/batch 27.33 | loss  5.44 | ppl   229.84\n",
      "| epoch   3 |   800/ 2928 batches | lr 4.29 | ms/batch 27.30 | loss  5.49 | ppl   243.44\n",
      "| epoch   3 |  1000/ 2928 batches | lr 4.29 | ms/batch 27.34 | loss  5.45 | ppl   233.50\n",
      "| epoch   3 |  1200/ 2928 batches | lr 4.29 | ms/batch 27.33 | loss  5.49 | ppl   242.33\n",
      "| epoch   3 |  1400/ 2928 batches | lr 4.29 | ms/batch 27.49 | loss  5.51 | ppl   246.10\n",
      "| epoch   3 |  1600/ 2928 batches | lr 4.29 | ms/batch 27.39 | loss  5.53 | ppl   253.15\n",
      "| epoch   3 |  1800/ 2928 batches | lr 4.29 | ms/batch 27.39 | loss  5.47 | ppl   238.55\n",
      "| epoch   3 |  2000/ 2928 batches | lr 4.29 | ms/batch 27.30 | loss  5.49 | ppl   242.17\n",
      "| epoch   3 |  2200/ 2928 batches | lr 4.29 | ms/batch 27.32 | loss  5.37 | ppl   214.51\n",
      "| epoch   3 |  2400/ 2928 batches | lr 4.29 | ms/batch 27.31 | loss  5.47 | ppl   238.53\n",
      "| epoch   3 |  2600/ 2928 batches | lr 4.29 | ms/batch 27.31 | loss  5.48 | ppl   240.31\n",
      "| epoch   3 |  2800/ 2928 batches | lr 4.29 | ms/batch 27.31 | loss  5.41 | ppl   224.54\n",
      "-----------------------------------------------------------------------------------------\n",
      "| end of epoch   3 | time: 83.35s | valid loss  5.63 | valid ppl   277.73\n",
      "-----------------------------------------------------------------------------------------\n",
      "| epoch   4 |   200/ 2928 batches | lr 4.07 | ms/batch 27.51 | loss  5.45 | ppl   233.60\n",
      "| epoch   4 |   400/ 2928 batches | lr 4.07 | ms/batch 27.33 | loss  5.47 | ppl   237.61\n",
      "| epoch   4 |   600/ 2928 batches | lr 4.07 | ms/batch 27.33 | loss  5.28 | ppl   195.91\n",
      "| epoch   4 |   800/ 2928 batches | lr 4.07 | ms/batch 27.29 | loss  5.34 | ppl   207.99\n",
      "| epoch   4 |  1000/ 2928 batches | lr 4.07 | ms/batch 27.41 | loss  5.29 | ppl   199.28\n",
      "| epoch   4 |  1200/ 2928 batches | lr 4.07 | ms/batch 27.33 | loss  5.34 | ppl   208.73\n",
      "| epoch   4 |  1400/ 2928 batches | lr 4.07 | ms/batch 27.30 | loss  5.36 | ppl   211.88\n",
      "| epoch   4 |  1600/ 2928 batches | lr 4.07 | ms/batch 27.37 | loss  5.39 | ppl   218.39\n",
      "| epoch   4 |  1800/ 2928 batches | lr 4.07 | ms/batch 27.62 | loss  5.33 | ppl   206.90\n",
      "| epoch   4 |  2000/ 2928 batches | lr 4.07 | ms/batch 27.48 | loss  5.35 | ppl   210.15\n",
      "| epoch   4 |  2200/ 2928 batches | lr 4.07 | ms/batch 27.31 | loss  5.24 | ppl   188.24\n",
      "| epoch   4 |  2400/ 2928 batches | lr 4.07 | ms/batch 27.24 | loss  5.34 | ppl   208.14\n",
      "| epoch   4 |  2600/ 2928 batches | lr 4.07 | ms/batch 27.28 | loss  5.34 | ppl   208.96\n",
      "| epoch   4 |  2800/ 2928 batches | lr 4.07 | ms/batch 27.58 | loss  5.28 | ppl   195.74\n",
      "-----------------------------------------------------------------------------------------\n",
      "| end of epoch   4 | time: 83.46s | valid loss  5.62 | valid ppl   277.25\n",
      "-----------------------------------------------------------------------------------------\n",
      "| epoch   5 |   200/ 2928 batches | lr 3.87 | ms/batch 27.53 | loss  5.32 | ppl   205.05\n",
      "| epoch   5 |   400/ 2928 batches | lr 3.87 | ms/batch 27.40 | loss  5.34 | ppl   209.30\n",
      "| epoch   5 |   600/ 2928 batches | lr 3.87 | ms/batch 27.44 | loss  5.14 | ppl   171.02\n",
      "| epoch   5 |   800/ 2928 batches | lr 3.87 | ms/batch 27.38 | loss  5.21 | ppl   182.88\n",
      "| epoch   5 |  1000/ 2928 batches | lr 3.87 | ms/batch 27.41 | loss  5.17 | ppl   175.54\n",
      "| epoch   5 |  1200/ 2928 batches | lr 3.87 | ms/batch 27.33 | loss  5.21 | ppl   183.90\n",
      "| epoch   5 |  1400/ 2928 batches | lr 3.87 | ms/batch 27.36 | loss  5.23 | ppl   187.34\n",
      "| epoch   5 |  1600/ 2928 batches | lr 3.87 | ms/batch 27.37 | loss  5.26 | ppl   193.34\n",
      "| epoch   5 |  1800/ 2928 batches | lr 3.87 | ms/batch 27.37 | loss  5.21 | ppl   182.76\n",
      "| epoch   5 |  2000/ 2928 batches | lr 3.87 | ms/batch 27.42 | loss  5.22 | ppl   185.41\n",
      "| epoch   5 |  2200/ 2928 batches | lr 3.87 | ms/batch 27.43 | loss  5.09 | ppl   162.22\n",
      "| epoch   5 |  2400/ 2928 batches | lr 3.87 | ms/batch 27.41 | loss  5.21 | ppl   182.41\n",
      "| epoch   5 |  2600/ 2928 batches | lr 3.87 | ms/batch 27.34 | loss  5.22 | ppl   184.43\n",
      "| epoch   5 |  2800/ 2928 batches | lr 3.87 | ms/batch 27.33 | loss  5.15 | ppl   172.58\n",
      "-----------------------------------------------------------------------------------------\n",
      "| end of epoch   5 | time: 83.49s | valid loss  5.54 | valid ppl   255.66\n",
      "-----------------------------------------------------------------------------------------\n"
     ]
    }
   ],
   "source": [
    "best_val_loss = float(\"inf\")\n",
    "epochs = 5 # The number of epochs\n",
    "best_model = None\n",
    "\n",
    "for epoch in range(1, epochs + 1):\n",
    "    epoch_start_time = time.time()\n",
    "    train()\n",
    "    val_loss = evaluate(model, val_data)\n",
    "    print('-' * 89)\n",
    "    print('| end of epoch {:3d} | time: {:5.2f}s | valid loss {:5.2f} | '\n",
    "          'valid ppl {:8.2f}'.format(epoch, (time.time() - epoch_start_time),\n",
    "                                     val_loss, math.exp(val_loss)))\n",
    "    print('-' * 89)\n",
    "\n",
    "    if val_loss < best_val_loss:\n",
    "        best_val_loss = val_loss\n",
    "        best_model = model\n",
    "\n",
    "    scheduler.step()"
   ]
  },
  {
   "cell_type": "markdown",
   "id": "returning-hierarchy",
   "metadata": {},
   "source": [
    "## Evaluate the model with the test dataset"
   ]
  },
  {
   "cell_type": "code",
   "execution_count": 8,
   "id": "missing-expansion",
   "metadata": {},
   "outputs": [
    {
     "name": "stdout",
     "output_type": "stream",
     "text": [
      "=========================================================================================\n",
      "| End of training | test loss  5.46 | test ppl   235.59\n",
      "=========================================================================================\n"
     ]
    }
   ],
   "source": [
    "test_loss = evaluate(best_model, test_data)\n",
    "print('=' * 89)\n",
    "print('| End of training | test loss {:5.2f} | test ppl {:8.2f}'.format(\n",
    "    test_loss, math.exp(test_loss)))\n",
    "print('=' * 89)"
   ]
  },
  {
   "cell_type": "code",
   "execution_count": null,
   "id": "functioning-recording",
   "metadata": {},
   "outputs": [],
   "source": []
  }
 ],
 "metadata": {
  "kernelspec": {
   "display_name": "Python 3",
   "language": "python",
   "name": "python3"
  },
  "language_info": {
   "codemirror_mode": {
    "name": "ipython",
    "version": 3
   },
   "file_extension": ".py",
   "mimetype": "text/x-python",
   "name": "python",
   "nbconvert_exporter": "python",
   "pygments_lexer": "ipython3",
   "version": "3.8.5"
  }
 },
 "nbformat": 4,
 "nbformat_minor": 5
}
